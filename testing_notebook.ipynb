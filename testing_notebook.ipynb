{
 "cells": [
  {
   "cell_type": "code",
   "execution_count": 2,
   "metadata": {},
   "outputs": [],
   "source": [
    "from definition_script import *"
   ]
  },
  {
   "cell_type": "markdown",
   "metadata": {},
   "source": [
    "##### Test Case 1 (The one given in email)\n",
    "Let us 1st declare the observation, with node sequence (node_label can be any length string) and corresponding binary string for observed sanction signal."
   ]
  },
  {
   "cell_type": "code",
   "execution_count": 3,
   "metadata": {},
   "outputs": [
    {
     "name": "stdout",
     "output_type": "stream",
     "text": [
      "Initialise the observation\n",
      "Enter the path of nodes (for ex: a b c)::\n",
      "a b c d c\n",
      "Enter the binary string for sanction signal: 10001\n"
     ]
    }
   ],
   "source": [
    "obs=observations()"
   ]
  },
  {
   "cell_type": "code",
   "execution_count": 4,
   "metadata": {},
   "outputs": [
    {
     "data": {
      "text/plain": [
       "[0, 4]"
      ]
     },
     "execution_count": 4,
     "metadata": {},
     "output_type": "execute_result"
    }
   ],
   "source": [
    "#Get Sanction indices from binary string\n",
    "obs.sanction_index()"
   ]
  },
  {
   "cell_type": "markdown",
   "metadata": {},
   "source": [
    "Let us declare the norm"
   ]
  },
  {
   "cell_type": "code",
   "execution_count": 5,
   "metadata": {},
   "outputs": [
    {
     "name": "stdout",
     "output_type": "stream",
     "text": [
      "You have initialised norm with type=2:\n",
      "\n",
      "Type 1: If the agent is currently at a node with label X, the next node it moves to should have label Y\n",
      "Type 2: If the agent is currently at a node with label X, it should never move to a node with label Y\n",
      "Enter nodes X,Y:: b,c\n"
     ]
    }
   ],
   "source": [
    "norm2=norms(2)\n",
    "norm2.add_pair()"
   ]
  },
  {
   "cell_type": "markdown",
   "metadata": {},
   "source": [
    "###### Let us test the violation function and likelihood function"
   ]
  },
  {
   "cell_type": "code",
   "execution_count": 6,
   "metadata": {},
   "outputs": [
    {
     "data": {
      "text/plain": [
       "[2, 4]"
      ]
     },
     "execution_count": 6,
     "metadata": {},
     "output_type": "execute_result"
    }
   ],
   "source": [
    "violations(obs.sequence,norm2.get_pair(0))"
   ]
  },
  {
   "cell_type": "code",
   "execution_count": 7,
   "metadata": {},
   "outputs": [
    {
     "name": "stdout",
     "output_type": "stream",
     "text": [
      "For index=0, \n",
      "Violation=0/Sanction=1, \n",
      "probability=0.0000\n",
      "\n",
      "For index=1, \n",
      "Violation=0/Sanction=0, \n",
      "probability=1.0000\n",
      "\n",
      "For index=2, \n",
      "Violation=1/Sanction=0, \n",
      "probability=0.3000\n",
      "\n",
      "For index=3, \n",
      "Violation=0/Sanction=0, \n",
      "probability=1.0000\n",
      "\n",
      "For index=4, \n",
      "Violation=1/Sanction=1, \n",
      "probability=0.7000\n",
      "\n"
     ]
    },
    {
     "data": {
      "text/plain": [
       "0.0"
      ]
     },
     "execution_count": 7,
     "metadata": {},
     "output_type": "execute_result"
    }
   ],
   "source": [
    "likelihood(obs,norm2.get_pair(0),p_pun=0,p_obs=1,p_sanc=0.7)"
   ]
  },
  {
   "cell_type": "markdown",
   "metadata": {},
   "source": [
    "##### But this is wrong since p_obs =1 i.e. every norm violation should be observed or the signal should have been 00101.\n",
    "Let us correct this and run likelihood function again"
   ]
  },
  {
   "cell_type": "code",
   "execution_count": 8,
   "metadata": {},
   "outputs": [
    {
     "name": "stdout",
     "output_type": "stream",
     "text": [
      "Initialise the observation\n",
      "Enter the path of nodes (for ex: a b c)::\n",
      "a b c d c\n",
      "Enter the binary string for sanction signal: 00101\n",
      "For index=0, \n",
      "Violation=0/Sanction=0, \n",
      "probability=1.0000\n",
      "\n",
      "For index=1, \n",
      "Violation=0/Sanction=0, \n",
      "probability=1.0000\n",
      "\n",
      "For index=2, \n",
      "Violation=1/Sanction=1, \n",
      "probability=0.7000\n",
      "\n",
      "For index=3, \n",
      "Violation=0/Sanction=0, \n",
      "probability=1.0000\n",
      "\n",
      "For index=4, \n",
      "Violation=1/Sanction=1, \n",
      "probability=0.7000\n",
      "\n"
     ]
    },
    {
     "data": {
      "text/plain": [
       "0.48999999999999994"
      ]
     },
     "execution_count": 8,
     "metadata": {},
     "output_type": "execute_result"
    }
   ],
   "source": [
    "obs1=observations()\n",
    "obs1.sanction_index()\n",
    "likelihood(obs1,norm2.get_pair(0))"
   ]
  },
  {
   "cell_type": "markdown",
   "metadata": {},
   "source": [
    "#### Let us test other cases with vioaltion function"
   ]
  },
  {
   "cell_type": "code",
   "execution_count": 14,
   "metadata": {},
   "outputs": [
    {
     "name": "stdout",
     "output_type": "stream",
     "text": [
      "You have initialised norm with type=1:\n",
      "\n",
      "Type 1: If the agent is currently at a node with label X, the next node it moves to should have label Y\n",
      "Type 2: If the agent is currently at a node with label X, it should never move to a node with label Y\n",
      "Enter nodes X,Y:: a,b\n",
      "Enter 0 to exit,1 otherwise1\n",
      "Enter nodes X,Y:: b,d\n",
      "Enter 0 to exit,1 otherwise1\n",
      "Enter nodes X,Y:: d,e\n",
      "Enter 0 to exit,1 otherwise1\n",
      "Enter nodes X,Y:: a,d\n",
      "Enter 0 to exit,1 otherwise0\n"
     ]
    }
   ],
   "source": [
    "norm1=norms(1)\n",
    "flag=1\n",
    "while (flag):\n",
    "    norm1.add_pair()\n",
    "    flag=int(input(\"Enter 0 to exit,1 otherwise\"))"
   ]
  },
  {
   "cell_type": "code",
   "execution_count": 15,
   "metadata": {},
   "outputs": [
    {
     "data": {
      "text/plain": [
       "{'norm_type': 1,\n",
       " 'pair1': ('a', 'b'),\n",
       " 'pair2': ('b', 'd'),\n",
       " 'pair3': ('d', 'e'),\n",
       " 'pair4': ('a', 'd')}"
      ]
     },
     "execution_count": 15,
     "metadata": {},
     "output_type": "execute_result"
    }
   ],
   "source": [
    "norm1.get_pairs()"
   ]
  },
  {
   "cell_type": "markdown",
   "metadata": {},
   "source": [
    "Let us test violation with each of these pairs"
   ]
  },
  {
   "cell_type": "code",
   "execution_count": 16,
   "metadata": {},
   "outputs": [
    {
     "name": "stdout",
     "output_type": "stream",
     "text": [
      "[]\n",
      "[2]\n",
      "[4]\n",
      "[1]\n"
     ]
    }
   ],
   "source": [
    "for i in range(len(norm1.get_pairs())-1):\n",
    "    print (violations(obs1.sequence,norm1.get_pair(i)))"
   ]
  }
 ],
 "metadata": {
  "kernelspec": {
   "display_name": "Python 3",
   "language": "python",
   "name": "python3"
  },
  "language_info": {
   "codemirror_mode": {
    "name": "ipython",
    "version": 3
   },
   "file_extension": ".py",
   "mimetype": "text/x-python",
   "name": "python",
   "nbconvert_exporter": "python",
   "pygments_lexer": "ipython3",
   "version": "3.6.1"
  }
 },
 "nbformat": 4,
 "nbformat_minor": 2
}
